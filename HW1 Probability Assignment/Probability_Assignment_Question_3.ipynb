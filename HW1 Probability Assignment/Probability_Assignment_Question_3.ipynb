{
  "cells": [
    {
      "cell_type": "code",
      "execution_count": 40,
      "metadata": {
        "id": "WUf5-nzRR_E0"
      },
      "outputs": [],
      "source": [
        "import numpy as np\n",
        "import matplotlib.pyplot as plt\n",
        "from matplotlib import cm"
      ]
    },
    {
      "cell_type": "code",
      "execution_count": 49,
      "metadata": {
        "id": "AsI1X6YwUv91"
      },
      "outputs": [],
      "source": [
        "d = 2 # Number of dimensions\n",
        "mean = np.array([[0], \n",
        "                 [2]]) \n",
        "covariance = np.array([[0.3, -1], \n",
        "                       [-1 , 5]])\n",
        "\n",
        "# Compute the Decomposition:\n",
        "A = np.linalg.cholesky(covariance)\n",
        " \n",
        "# Sample X from standard normal\n",
        "n = 50 # Samples to draw\n",
        "Z = np.random.normal(size=(d, n)) # random noise matrix\n",
        "X = mean + A.dot(Z)# Apply the transformation: mean + noise"
      ]
    },
    {
      "cell_type": "code",
      "execution_count": 51,
      "metadata": {
        "id": "hpFBKG11uGSf"
      },
      "outputs": [],
      "source": [
        "# 2D distribution will be over variables x1 and x2\n",
        "x1 = np.linspace(-1.5, 1.5, n) # horizontal axis\n",
        "x2 = np.linspace(-4, 8, n) # vertical axis\n",
        "x1, x2 = np.meshgrid(x1, x2)\n",
        "\n",
        "# Pack x1 and x2 into a single 3D array\n",
        "pos = np.empty(x1.shape + (2,))\n",
        "pos[:,:,0] = x1\n",
        "pos[:,:,1] = x2\n",
        "\n",
        "# The correct model of bivariate Gaussian distribution\n",
        "def multivariate_gaussian(pos, mu, Sigma):\n",
        "    n = mu.shape[0]\n",
        "    mu.shape = (1, 2)\n",
        "    Sigma_det = np.linalg.det(Sigma)\n",
        "    Sigma_inv = np.linalg.inv(Sigma)\n",
        "    N = np.sqrt((2*np.pi)**n * Sigma_det)\n",
        "    # This einsum call calculates (x-mu)T.Sigma-1.(x-mu) in a vectorized\n",
        "    # way across all the input variables.\n",
        "    fac = np.einsum('...k,kl,...l->...', pos-mu, Sigma_inv, pos-mu)\n",
        "\n",
        "    return np.exp(-fac / 2) / N\n",
        "\n",
        "model = multivariate_gaussian(pos, mean, covariance)"
      ]
    },
    {
      "cell_type": "code",
      "execution_count": 52,
      "metadata": {
        "colab": {
          "base_uri": "https://localhost:8080/",
          "height": 289
        },
        "id": "N4ujucGt4U3D",
        "outputId": "6701dcd0-b38f-4d69-c2d4-3af42d18f471"
      },
      "outputs": [
        {
          "data": {
            "image/png": "[encoded data removed]",
            "text/plain": [
              "<Figure size 432x288 with 1 Axes>"
            ]
          },
          "metadata": {
            "needs_background": "light"
          },
          "output_type": "display_data"
        }
      ],
      "source": [
        "fig, ax = plt.subplots()\n",
        "ax.set_xlabel(r'$x_1$', fontsize = 16)\n",
        "ax.set_ylabel(r'$x_2$', fontsize = 16)\n",
        "\n",
        "ax.plot(X[0,:], X[1,:], 'ro', alpha=0.8)\n",
        "ax.contourf(x1, x2, model, cmap=cm.BuGn)\n",
        "plt.show()"
      ]
    }
  ],
  "metadata": {
    "colab": {
      "provenance": []
    },
    "kernelspec": {
      "display_name": "Python 3",
      "language": "python",
      "name": "python3"
    },
    "language_info": {
      "name": "python",
      "version": "3.10.4 (main, Feb  2 2023, 18:01:09) [Clang 13.1.6 (clang-1316.0.21.2.5)]"
    },
    "vscode": {
      "interpreter": {
        "hash": "2c2ba1907b74e330f1d538bb66dc55dd3ca3650f47f7324d7ea2aa89b1340b3f"
      }
    }
  },
  "nbformat": 4,
  "nbformat_minor": 0
}
